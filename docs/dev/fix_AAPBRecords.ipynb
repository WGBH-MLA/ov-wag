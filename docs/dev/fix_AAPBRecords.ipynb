{
 "cells": [
  {
   "cell_type": "markdown",
   "metadata": {},
   "source": [
    "# Fix AAPBRecords `access_level`\n",
    "\n",
    "This is a quick data fix for a bad default value when creating the `AAPBRecordsBlock` property for `access_level`.\n",
    "\n",
    "This shouldn't have to be run again, but is provided in case it is useful!"
   ]
  },
  {
   "cell_type": "markdown",
   "metadata": {},
   "source": [
    "## Why?\n",
    "When creating The `access_level` value, It was initially set to a tuple, of `(value, label)`, just like the data in the `ChoiceBlock`. However, it needed to be just the `value` only.\n",
    "\n",
    "Migrating the database back and reapplying the migration left the default values in the database, so this manual fix was needed. "
   ]
  },
  {
   "cell_type": "markdown",
   "metadata": {},
   "source": [
    "## Usage\n",
    "Open a python shell in your Wagtail environment:\n",
    "\n",
    "```sh\n",
    "python manage.py shell\n",
    "```\n",
    "\n",
    "Then run the following:"
   ]
  },
  {
   "cell_type": "code",
   "execution_count": null,
   "metadata": {},
   "outputs": [],
   "source": [
    "from ov_collections.models import Collection, AAPB_BLOCK_TYPES\n"
   ]
  },
  {
   "cell_type": "code",
   "execution_count": null,
   "metadata": {},
   "outputs": [],
   "source": [
    "for collection in Collection.objects.all():\n",
    "    for content in collection.content:\n",
    "        if content.block_type in AAPB_BLOCK_TYPES:\n",
    "            if type(content.value['access_level']) is tuple:\n",
    "                print('fixing', collection.title)\n",
    "                content.value.update({'access_level': 'online'})\n",
    "                collection.save()"
   ]
  },
  {
   "cell_type": "code",
   "execution_count": null,
   "metadata": {},
   "outputs": [],
   "source": [
    "from exhibits.models import ExhibitPage\n",
    "\n",
    "for page in ExhibitPage.objects.all():\n",
    "    for content in page.body:\n",
    "        if content.block_type in AAPB_BLOCK_TYPES:\n",
    "            if type(content.value['access_level']) is tuple:\n",
    "                print('fixing', page.title)\n",
    "                content.value.update({'access_level': 'online'})\n",
    "                page.save()"
   ]
  },
  {
   "cell_type": "markdown",
   "metadata": {},
   "source": []
  }
 ],
 "metadata": {
  "kernelspec": {
   "display_name": ".venv",
   "language": "python",
   "name": "python3"
  },
  "language_info": {
   "codemirror_mode": {
    "name": "ipython",
    "version": 3
   },
   "file_extension": ".py",
   "mimetype": "text/x-python",
   "name": "python",
   "nbconvert_exporter": "python",
   "pygments_lexer": "ipython3",
   "version": "3.12.3"
  }
 },
 "nbformat": 4,
 "nbformat_minor": 2
}
